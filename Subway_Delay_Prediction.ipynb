{
 "cells": [
  {
   "cell_type": "code",
   "execution_count": 1,
   "metadata": {},
   "outputs": [],
   "source": [
    "import pandas as pd\n",
    "\n",
    "subway_delay = pd.read_csv(\"file:///Users/bhavanarama/Desktop/Monthly_Subway_Line_Delay_Data.csv\")\n",
    "weather_data = pd.read_csv(\"file:///Users/bhavanarama/Desktop/Monthly_Weather_Data.csv\")\n",
    "\n",
    "subway_delay = subway_delay[['Month','line', 'average_delay_time']]\n",
    "weather_data = weather_data[['Month','Max_Temp', 'Min_Temp']]\n"
   ]
  },
  {
   "cell_type": "code",
   "execution_count": 2,
   "metadata": {},
   "outputs": [],
   "source": [
    "request_line = \"1\"\n",
    "line = \"line\"\n",
    "mask = subway_delay['line'] == request_line\n",
    "subway_line = subway_delay[mask]\n"
   ]
  },
  {
   "cell_type": "code",
   "execution_count": 3,
   "metadata": {},
   "outputs": [
    {
     "data": {
      "text/html": [
       "<div>\n",
       "<style scoped>\n",
       "    .dataframe tbody tr th:only-of-type {\n",
       "        vertical-align: middle;\n",
       "    }\n",
       "\n",
       "    .dataframe tbody tr th {\n",
       "        vertical-align: top;\n",
       "    }\n",
       "\n",
       "    .dataframe thead th {\n",
       "        text-align: right;\n",
       "    }\n",
       "</style>\n",
       "<table border=\"1\" class=\"dataframe\">\n",
       "  <thead>\n",
       "    <tr style=\"text-align: right;\">\n",
       "      <th></th>\n",
       "      <th>Max_Temp</th>\n",
       "      <th>Min_Temp</th>\n",
       "      <th>average_delay_time</th>\n",
       "    </tr>\n",
       "  </thead>\n",
       "  <tbody>\n",
       "    <tr>\n",
       "      <th>0</th>\n",
       "      <td>55</td>\n",
       "      <td>8</td>\n",
       "      <td>1.27</td>\n",
       "    </tr>\n",
       "    <tr>\n",
       "      <th>1</th>\n",
       "      <td>43</td>\n",
       "      <td>3</td>\n",
       "      <td>1.26</td>\n",
       "    </tr>\n",
       "    <tr>\n",
       "      <th>2</th>\n",
       "      <td>62</td>\n",
       "      <td>13</td>\n",
       "      <td>1.11</td>\n",
       "    </tr>\n",
       "    <tr>\n",
       "      <th>3</th>\n",
       "      <td>77</td>\n",
       "      <td>33</td>\n",
       "      <td>0.85</td>\n",
       "    </tr>\n",
       "    <tr>\n",
       "      <th>4</th>\n",
       "      <td>87</td>\n",
       "      <td>43</td>\n",
       "      <td>0.90</td>\n",
       "    </tr>\n",
       "  </tbody>\n",
       "</table>\n",
       "</div>"
      ],
      "text/plain": [
       "   Max_Temp  Min_Temp  average_delay_time\n",
       "0        55         8                1.27\n",
       "1        43         3                1.26\n",
       "2        62        13                1.11\n",
       "3        77        33                0.85\n",
       "4        87        43                0.90"
      ]
     },
     "execution_count": 3,
     "metadata": {},
     "output_type": "execute_result"
    }
   ],
   "source": [
    "result = pd.merge(weather_data, subway_line, on='Month')\n",
    "train_data  = result[['Max_Temp', 'Min_Temp','average_delay_time']]\n",
    "train_data.head()"
   ]
  },
  {
   "cell_type": "code",
   "execution_count": 4,
   "metadata": {},
   "outputs": [
    {
     "name": "stdout",
     "output_type": "stream",
     "text": [
      "[46.981400000000065, 57.185600000000036, 47.96600000000001, 39.68600000000007, 42.20420000000007]\n",
      "[30.59600000000005, 49.521200000000064, 37.106600000000086, 32.3852, 31.23320000000002]\n"
     ]
    }
   ],
   "source": [
    "import requests\n",
    "import json\n",
    "\n",
    "\n",
    "URL = 'http://api.openweathermap.org/data/2.5/forecast?q=Queens,us&appid=1026b7625ff1ec232a7927edbe48af1e'\n",
    "r = requests.get(URL)\n",
    "data = r.json()\n",
    "length = len(data[\"list\"])\n",
    "maximum_temp = []\n",
    "minimum_temp = []\n",
    "day = 0\n",
    "while day < length:\n",
    "    max_temp = -999\n",
    "    min_temp = 999\n",
    "    for cur in range(day, day + 8):\n",
    "        if cur < length:\n",
    "            temp_F = (9/5*(data[\"list\"][cur][\"main\"][\"temp_max\"] - 273.15)) + 32\n",
    "            max_temp = max(max_temp,temp_F)\n",
    "\n",
    "\n",
    "            temp_F1 = (9/5*(data[\"list\"][cur][\"main\"][\"temp_max\"] - 273.15)) + 32\n",
    "            min_temp = min(min_temp, temp_F1)\n",
    "    maximum_temp.append(max_temp)\n",
    "    minimum_temp.append(min_temp)\n",
    "    day += 8\n",
    "    \n",
    "print(maximum_temp)\n",
    "print(minimum_temp)"
   ]
  },
  {
   "cell_type": "code",
   "execution_count": 5,
   "metadata": {},
   "outputs": [],
   "source": [
    "import numpy as np\n",
    "dictionary = {'Max_Temp': maximum_temp, 'Min_Temp' : minimum_temp}\n",
    "test_data = pd.DataFrame(dictionary)\n",
    "npMatrix = np.matrix(train_data)\n",
    "\n",
    "X, Y = npMatrix[:,0:2], npMatrix[:,2]"
   ]
  },
  {
   "cell_type": "code",
   "execution_count": 6,
   "metadata": {},
   "outputs": [
    {
     "name": "stderr",
     "output_type": "stream",
     "text": [
      "/Library/Frameworks/Python.framework/Versions/3.6/lib/python3.6/site-packages/sklearn/linear_model/base.py:485: RuntimeWarning: internal gelsd driver lwork query error, required iwork dimension not returned. This is likely the result of LAPACK bug 0038, fixed in LAPACK 3.2.2 (released July 21, 2010). Falling back to 'gelss' driver.\n",
      "  linalg.lstsq(X, y)\n"
     ]
    },
    {
     "data": {
      "text/plain": [
       "array([[1.19349416],\n",
       "       [1.21438143],\n",
       "       [1.21786459],\n",
       "       [1.25166784],\n",
       "       [1.22903739]])"
      ]
     },
     "execution_count": 6,
     "metadata": {},
     "output_type": "execute_result"
    }
   ],
   "source": [
    "from sklearn.linear_model import LinearRegression\n",
    "Linreg = LinearRegression().fit(X,Y)\n",
    "#Linreg = Ridge(alpha=1.0,fit_intercept=True,max_iter=100, solver='saga').fit(X,Y)\n",
    "results = Linreg.predict(test_data)\n",
    "results"
   ]
  },
  {
   "cell_type": "code",
   "execution_count": 7,
   "metadata": {},
   "outputs": [
    {
     "name": "stdout",
     "output_type": "stream",
     "text": [
      "[[1, 11], [1, 12], [1, 13], [1, 15], [1, 13]]\n"
     ]
    }
   ],
   "source": [
    "import math\n",
    "\n",
    "time = []\n",
    "for result in results:\n",
    "    current = []\n",
    "    minute = math.floor(result)\n",
    "    seconds = (result * 60)%60\n",
    "    time.append([minute, int(seconds)])\n",
    "print(time)"
   ]
  },
  {
   "cell_type": "code",
   "execution_count": null,
   "metadata": {},
   "outputs": [],
   "source": []
  },
  {
   "cell_type": "code",
   "execution_count": null,
   "metadata": {},
   "outputs": [],
   "source": []
  }
 ],
 "metadata": {
  "kernelspec": {
   "display_name": "Python 3",
   "language": "python",
   "name": "python3"
  },
  "language_info": {
   "codemirror_mode": {
    "name": "ipython",
    "version": 3
   },
   "file_extension": ".py",
   "mimetype": "text/x-python",
   "name": "python",
   "nbconvert_exporter": "python",
   "pygments_lexer": "ipython3",
   "version": "3.6.5"
  }
 },
 "nbformat": 4,
 "nbformat_minor": 2
}
